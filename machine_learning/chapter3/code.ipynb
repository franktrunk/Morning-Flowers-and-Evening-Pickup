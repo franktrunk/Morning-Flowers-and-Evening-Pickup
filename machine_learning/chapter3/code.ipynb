{
 "cells": [
  {
   "cell_type": "code",
   "execution_count": null,
   "metadata": {},
   "outputs": [],
   "source": [
    "\n",
    "import pandas as pd\n",
    "from sklearn.feature_extraction.text import TfidfVectorizer\n",
    "\n",
    "document1 = \"I have a pen, I have an apple, apple pen.\"\n",
    "document2 = \"I have a pen, I have pineapple, pineapple pen.\"\n",
    "\n",
    "tv = TfidfVectorizer(lowercase=False, token_pattern='\\w+',\n",
    "                     norm='l1', smooth_idf=False)\n",
    "model = tv.fit_transform([document1, document2])\n",
    "print(pd.DataFrame(model.toarray(), columns=tv.get_feature_names_out()))\n",
    "#           I         a        an     apple      have       pen  pineapple\n",
    "# 0  0.165571  0.082785  0.140168  0.280335  0.165571  0.165571   0.000000\n",
    "# 1  0.192561  0.096281  0.000000  0.000000  0.192561  0.192561   0.326035"
   ]
  },
  {
   "cell_type": "code",
   "execution_count": 2,
   "metadata": {},
   "outputs": [
    {
     "name": "stdout",
     "output_type": "stream",
     "text": [
      "[1 1 0 0]\n",
      "[[1. 0. 1. 0. 1. 0. 0. 1. 0. 0. 1. 0. 1.]\n",
      " [1. 0. 0. 1. 1. 0. 0. 1. 0. 1. 0. 1. 0.]\n",
      " [1. 1. 0. 0. 0. 1. 0. 1. 1. 0. 0. 1. 0.]\n",
      " [1. 0. 0. 1. 1. 0. 1. 0. 0. 0. 1. 0. 1.]]\n",
      "['x0_周六' 'x1_-' 'x1_吃饭' 'x1_逛街' 'x2_晴天' 'x2_雨天' 'x3_正常' 'x3_轻松' 'x4_严峻'\n",
      " 'x4_平缓' 'x4_清零' 'x5_无聊' 'x5_精彩']\n"
     ]
    }
   ],
   "source": [
    "\n",
    "import numpy as np\n",
    "from sklearn.preprocessing import LabelBinarizer, OneHotEncoder\n",
    "\n",
    "X = np.array([\n",
    "    [1, '周六', '吃饭', '晴天', '轻松', '清零', '精彩'],\n",
    "    [6, '周六', '逛街', '晴天', '轻松', '平缓', '无聊'],\n",
    "    [10, '周六', '-', '雨天', '轻松', '严峻', '无聊'],\n",
    "    [13, '周六', '逛街', '晴天', '正常', '清零', '精彩'],\n",
    "])\n",
    "y = np.array(['是', '是', '否', '否'])\n",
    "print(LabelBinarizer().fit_transform(y).squeeze())  # 标记二值化\n",
    "# [1 1 0 0]\n",
    "\n",
    "enc = OneHotEncoder()\n",
    "print(enc.fit_transform(X[:, 1:7]).toarray())  # 对6个类别特征采用独热编码\n",
    "# [[1. 0. 1. 0. 1. 0. 0. 1. 0. 0. 1. 0. 1.]\n",
    "#  [1. 0. 0. 1. 1. 0. 0. 1. 0. 1. 0. 1. 0.]\n",
    "#  [1. 1. 0. 0. 0. 1. 0. 1. 1. 0. 0. 1. 0.]\n",
    "#  [1. 0. 0. 1. 1. 0. 1. 0. 0. 0. 1. 0. 1.]]\n",
    "\n",
    "print(enc.get_feature_names_out())  # 独热编码对应的原始特征\n",
    "# ['x0_周六' 'x1_-' 'x1_吃饭' 'x1_逛街' 'x2_晴天' 'x2_雨天' 'x3_正常' 'x3_轻松' 'x4_严峻'\n",
    "#  'x4_平缓' 'x4_清零' 'x5_无聊' 'x5_精彩']"
   ]
  },
  {
   "cell_type": "code",
   "execution_count": 3,
   "metadata": {},
   "outputs": [
    {
     "name": "stdout",
     "output_type": "stream",
     "text": [
      "[[25.2]\n",
      " [31.4]\n",
      " [32.6]\n",
      " [36.4]]\n",
      "[[25.2]\n",
      " [32.6]\n",
      " [32.6]\n",
      " [36.4]]\n",
      "[['吃饭']\n",
      " ['逛街']\n",
      " ['逛街']\n",
      " ['逛街']]\n",
      "[[ 1.  25.2  0.5]\n",
      " [ 6.  28.9  2. ]\n",
      " [10.  32.6  8.2]\n",
      " [13.  36.4  9.8]]\n"
     ]
    }
   ],
   "source": [
    "\n",
    "import numpy as np\n",
    "from sklearn.ensemble import ExtraTreesRegressor\n",
    "from sklearn.experimental import enable_iterative_imputer\n",
    "from sklearn.impute import IterativeImputer, SimpleImputer\n",
    "from sklearn.neighbors import KNeighborsRegressor\n",
    "from sklearn.tree import DecisionTreeRegressor\n",
    "\n",
    "X = np.array([\n",
    "    [1, '周六', '吃饭', '晴天', '轻松', '清零', '精彩', 25.2, 0.5],\n",
    "    [6, '周六', '逛街', '晴天', '轻松', '平缓', '无聊', np.nan, 2.0],\n",
    "    [10, '周六', '-', '雨天', '轻松', '严峻', '无聊', 32.6, 8.2],\n",
    "    [13, '周六', '逛街', '晴天', '正常', '清零', '精彩', 36.4, 9.8],\n",
    "])\n",
    "\n",
    "imp_mean = SimpleImputer(strategy='mean')\n",
    "print(imp_mean.fit_transform(X[:, [7]]))  # 用均值填充\n",
    "# [[25.2]\n",
    "#  [31.4]\n",
    "#  [32.6]\n",
    "#  [36.4]]\n",
    "\n",
    "imp_median = SimpleImputer(strategy='median')\n",
    "print(imp_median.fit_transform(X[:, [7]]))  # 用中位数填充\n",
    "# [[25.2]\n",
    "#  [32.6]\n",
    "#  [32.6]\n",
    "#  [36.4]]\n",
    "\n",
    "imp_frequent = SimpleImputer(missing_values='-', strategy='most_frequent')\n",
    "print(imp_frequent.fit_transform(X[:, [2]].astype('object')))  # 用众数填充\n",
    "# [['吃饭']\n",
    "#  ['逛街']\n",
    "#  ['逛街']\n",
    "#  ['逛街']]\n",
    "\n",
    "# 回归器默认采用BayesianRidge\n",
    "# 其它可选DecisionTreeRegressor ExtraTreesRegressor KNeighborsRegressor\n",
    "imp_iter = IterativeImputer(estimator=KNeighborsRegressor(n_neighbors=2))\n",
    "print(imp_iter.fit_transform(X[:, [0, 7, 8]]))\n",
    "# [[ 1.  25.2  0.5]\n",
    "#  [ 6.  28.9  2. ]\n",
    "#  [10.  32.6  8.2]\n",
    "#  [13.  36.4  9.8]]"
   ]
  },
  {
   "cell_type": "code",
   "execution_count": 4,
   "metadata": {},
   "outputs": [
    {
     "name": "stdout",
     "output_type": "stream",
     "text": [
      "[[0.         0.         0.        ]\n",
      " [0.41666667 0.19642857 0.16129032]\n",
      " [0.75       0.66071429 0.82795699]\n",
      " [1.         1.         1.        ]]\n",
      "[[0.07692308 0.69230769 0.05102041]\n",
      " [0.46153846 0.75274725 0.20408163]\n",
      " [0.76923077 0.8956044  0.83673469]\n",
      " [1.         1.         1.        ]]\n",
      "[[-1.44444444 -1.1861146  -1.17034706]\n",
      " [-0.33333333 -0.68429689 -0.79077504]\n",
      " [ 0.55555556  0.50181772  0.77812264]\n",
      " [ 1.22222222  1.36859377  1.18299946]]\n",
      "[ 5.55111512e-17  2.22044605e-16 -5.55111512e-17] [1. 1. 1.]\n"
     ]
    }
   ],
   "source": [
    "\n",
    "import numpy as np\n",
    "from sklearn.preprocessing import MaxAbsScaler, MinMaxScaler, scale\n",
    "\n",
    "X = np.array([\n",
    "    [1, '周六', '吃饭', '晴天', '轻松', '清零', '精彩', 25.2, 0.5],\n",
    "    [6, '周六', '逛街', '晴天', '轻松', '平缓', '无聊', 27.4, 2.0],\n",
    "    [10, '周六', '学习', '雨天', '轻松', '严峻', '无聊', 32.6, 8.2],\n",
    "    [13, '周六', '逛街', '晴天', '正常', '清零', '精彩', 36.4, 9.8],\n",
    "])\n",
    "\n",
    "print(MinMaxScaler().fit_transform(X[:, [0, 7, 8]]))  # 最大值变成1 同时 最小值变成0\n",
    "# [[0.         0.         0.        ]\n",
    "#  [0.41666667 0.19642857 0.16129032]\n",
    "#  [0.75       0.66071429 0.82795699]\n",
    "#  [1.         1.         1.        ]]\n",
    "\n",
    "print(MaxAbsScaler().fit_transform(X[:, [0, 7, 8]]))  # 最大值变成1\n",
    "# [[0.07692308 0.69230769 0.05102041]\n",
    "#  [0.46153846 0.75274725 0.20408163]\n",
    "#  [0.76923077 0.8956044  0.83673469]\n",
    "#  [1.         1.         1.        ]]\n",
    "\n",
    "x = scale(X[:, [0, 7, 8]])\n",
    "print(x)\n",
    "# [[-1.44444444 -1.1861146  -1.17034706]\n",
    "#  [-0.33333333 -0.68429689 -0.79077504]\n",
    "#  [ 0.55555556  0.50181772  0.77812264]\n",
    "#  [ 1.22222222  1.36859377  1.18299946]]\n",
    "\n",
    "print(x.mean(axis=0), x.std(axis=0))  # 均值为0 标准差为1\n",
    "# [ 5.55111512e-17  2.22044605e-16 -5.55111512e-17] [1. 1. 1.]"
   ]
  },
  {
   "cell_type": "code",
   "execution_count": 5,
   "metadata": {},
   "outputs": [
    {
     "name": "stdout",
     "output_type": "stream",
     "text": [
      "(4, 13)\n",
      "[[1. 0. 0. 1. 0. 0. 1. 0. 0. 1. 0. 1.]\n",
      " [0. 0. 1. 1. 0. 0. 1. 0. 1. 0. 1. 0.]\n",
      " [0. 1. 0. 0. 1. 0. 1. 1. 0. 0. 1. 0.]\n",
      " [0. 0. 1. 1. 0. 1. 0. 0. 0. 1. 0. 1.]]\n",
      "(4, 12)\n"
     ]
    }
   ],
   "source": [
    "\n",
    "import numpy as np\n",
    "from sklearn.feature_selection import VarianceThreshold\n",
    "\n",
    "# 对6个离散类别特征采用了独热编码\n",
    "X = np.array([\n",
    "    [1., 1., 0., 0., 1., 0., 0., 1., 0., 0., 1., 0., 1.],\n",
    "    [1., 0., 0., 1., 1., 0., 0., 1., 0., 1., 0., 1., 0.],\n",
    "    [1., 0., 1., 0., 0., 1., 0., 1., 1., 0., 0., 1., 0.],\n",
    "    [1., 0., 0., 1., 1., 0., 1., 0., 0., 0., 1., 0., 1.]\n",
    "])\n",
    "print(X.shape)\n",
    "# (4, 13)\n",
    "\n",
    "# 第1列由特征“时间”而来 四个样本都取值“周六” 独热编码后都是1 方差为0\n",
    "XX = VarianceThreshold(threshold=0.01).fit_transform(X)\n",
    "print(XX)\n",
    "# [[1. 0. 0. 1. 0. 0. 1. 0. 0. 1. 0. 1.]\n",
    "#  [0. 0. 1. 1. 0. 0. 1. 0. 1. 0. 1. 0.]\n",
    "#  [0. 1. 0. 0. 1. 0. 1. 1. 0. 0. 1. 0.]\n",
    "#  [0. 0. 1. 1. 0. 1. 0. 0. 0. 1. 0. 1.]]\n",
    "\n",
    "print(XX.shape)\n",
    "# (4, 12)"
   ]
  },
  {
   "cell_type": "code",
   "execution_count": null,
   "metadata": {},
   "outputs": [],
   "source": []
  }
 ],
 "metadata": {
  "kernelspec": {
   "display_name": "menv312",
   "language": "python",
   "name": "python3"
  },
  "language_info": {
   "codemirror_mode": {
    "name": "ipython",
    "version": 3
   },
   "file_extension": ".py",
   "mimetype": "text/x-python",
   "name": "python",
   "nbconvert_exporter": "python",
   "pygments_lexer": "ipython3",
   "version": "3.12.11"
  }
 },
 "nbformat": 4,
 "nbformat_minor": 2
}
