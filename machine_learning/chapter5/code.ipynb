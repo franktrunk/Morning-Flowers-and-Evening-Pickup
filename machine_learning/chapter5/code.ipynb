{
 "cells": [
  {
   "cell_type": "code",
   "execution_count": null,
   "metadata": {},
   "outputs": [],
   "source": [
    "\n",
    "import numpy as np\n",
    "from sklearn.linear_model import Perceptron\n",
    "from sklearn.preprocessing import LabelBinarizer, OneHotEncoder\n",
    "\n",
    "X = np.array([\n",
    "    [1, '周六', '吃饭', '晴天', '轻松', '清零', '精彩'],\n",
    "    [2, '周日', '吃饭', '阴天', '轻松', '清零', '精彩'],\n",
    "    [3, '周日', '吃饭', '晴天', '轻松', '清零', '精彩'],\n",
    "    [4, '周六', '吃饭', '阴天', '轻松', '清零', '精彩'],\n",
    "    [5, '周间', '吃饭', '晴天', '轻松', '清零', '精彩'],\n",
    "    [6, '周六', '逛街', '晴天', '轻松', '平缓', '无聊'],\n",
    "    [7, '周日', '逛街', '晴天', '适中', '平缓', '无聊'],\n",
    "    [8, '周日', '逛街', '晴天', '轻松', '平缓', '精彩'],\n",
    "    [9, '周日', '逛街', '阴天', '适中', '平缓', '精彩'],\n",
    "    [10, '周六', '学习', '雨天', '轻松', '严峻', '无聊'],\n",
    "    [11, '周间', '学习', '雨天', '繁重', '严峻', '精彩'],\n",
    "    [12, '周间', '吃饭', '晴天', '繁重', '严峻', '无聊'],\n",
    "    [13, '周六', '逛街', '晴天', '适中', '清零', '精彩'],\n",
    "    [14, '周间', '逛街', '阴天', '适中', '清零', '精彩'],\n",
    "    [15, '周日', '逛街', '晴天', '轻松', '平缓', '无聊'],\n",
    "    [16, '周间', '吃饭', '晴天', '繁重', '严峻', '精彩'],\n",
    "    [17, '周六', '吃饭', '阴天', '适中', '平缓', '精彩'],\n",
    "])\n",
    "y = np.array(\n",
    "    ['是', '是', '是', '是', '是', '是', '是', '是',\n",
    "     '否', '否', '否', '否', '否', '否', '否', '否', '否']\n",
    ")\n",
    "\n",
    "X = OneHotEncoder().fit_transform(X[:, 1:7])\n",
    "y = LabelBinarizer().fit_transform(y).squeeze()\n",
    "\n",
    "train_index = [0, 1, 2, 5, 6, 9, 13, 14, 15, 16]\n",
    "test_index = [3, 4, 7, 8, 10, 11, 12]\n",
    "\n",
    "X_train, X_test, y_train, y_test = X[train_index, :], X[test_index, :], y[train_index], y[test_index]\n",
    "\n",
    "clf = Perceptron(eta0=0.5, verbose=True)  # 步长=0.5 输出日志\n",
    "clf.fit(X_train, y_train)\n",
    "\n",
    "print(clf.score(X_test, y_test))\n",
    "# 0.7142857142857143\n",
    "\n",
    "print(clf.predict(X_test))\n",
    "# [1 1 0 0 0 0 1]"
   ]
  },
  {
   "cell_type": "code",
   "execution_count": null,
   "metadata": {},
   "outputs": [],
   "source": []
  }
 ],
 "metadata": {
  "kernelspec": {
   "display_name": "menv312",
   "language": "python",
   "name": "python3"
  },
  "language_info": {
   "codemirror_mode": {
    "name": "ipython",
    "version": 3
   },
   "file_extension": ".py",
   "mimetype": "text/x-python",
   "name": "python",
   "nbconvert_exporter": "python",
   "pygments_lexer": "ipython3",
   "version": "3.12.11"
  }
 },
 "nbformat": 4,
 "nbformat_minor": 2
}
